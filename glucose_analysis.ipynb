{
 "cells": [
  {
   "cell_type": "markdown",
   "id": "24e63c49",
   "metadata": {},
   "source": [
    "# License Notice\n",
    "\n",
    "Copyright (c) 2024 Warren Bebbington\n",
    "\n",
    "This notebook is part of the simple-glucose-analysis project and is licensed under the MIT License. For the full license text, please see the LICENSE file in the project's root directory."
   ]
  },
  {
   "cell_type": "markdown",
   "id": "3adedfcb",
   "metadata": {},
   "source": [
    "# My Authentic Personal Glucose Control Analysis Project\n",
    "\n",
    "## Introduction\n",
    "\n",
    "This project presents an analysis of my actual continuous glucose monitoring (CGM) data as a person living with Type 1 Diabetes. The dataset spans a 15 month period and includes my genuine glucose readings, insulin doses, and carbohydrate intake information.\n",
    "\n",
    "**Important Note:** While this is my real, unmodified data, I've taken steps to protect my privacy:\n",
    "\n",
    "1. The specific date range of the data collection has been anonymized.\n",
    "2. This dataset is not from the current time period, which adds a layer of privacy protection.\n",
    "\n",
    "## Project Objectives\n",
    "\n",
    "1. Showcase my data analysis skills using Python, particularly with time-series health data.\n",
    "2. Demonstrate my proficiency in data cleaning, preprocessing, and visualization techniques.\n",
    "3. Apply statistical analysis methods to derive insights from my glucose monitoring data.\n",
    "4. Explore authentic patterns and relationships in my diabetes management data.\n",
    "5. Present my findings in a clear, visually appealing manner.\n",
    "\n",
    "## Data Description\n",
    "\n",
    "My dataset includes:\n",
    "- Actual glucose readings (mmol/L) at 5-minute intervals\n",
    "- Real insulin doses (units)\n",
    "- Relativley accurate carbohydrate intake (grams)\n",
    "\n",
    "## Ethical Considerations and Data Usage\n",
    "\n",
    "As a person with Type 1 Diabetes, I understand the significance of this data. I want to emphasize a few key points:\n",
    "\n",
    "1. Privacy: While the data is genuine, the anonymized date range protects my privacy.\n",
    "2. Not Current Data: This dataset is from a past period, not representing my current diabetes management.\n",
    "3. Educational Purpose: This project is intended to demonstrate data analysis skills and general diabetes management insights.\n",
    "4. Medical Disclaimer: Despite being real data, the insights generated here should not be considered medical advice. As always, I will only consider changes to my diabetes management in consultation with healthcare professionals.\n",
    "\n",
    "## Intended Use of Insights\n",
    "\n",
    "The insights derived from this analysis are primarily for:\n",
    "1. Demonstrating my data analysis capabilities.\n",
    "2. Showcasing the potential of data analysis in diabetes management.\n",
    "3. Personal reflection on past diabetes management strategies.\n",
    "\n",
    "Any application of these insights to actual diabetes management would only be done under the guidance of medical professionals.\n",
    "\n",
    "## Tools and Libraries Used\n",
    "\n",
    "- Python 3.x\n",
    "- Pandas for data manipulation\n",
    "- Matplotlib and Seaborn for data visualization\n",
    "- Scipy for statistical analysis\n",
    "- Statsmodels for time series analysis\n",
    "- XDrip+(Android) for recieving and storing of CGM data, insulin doses and carbohydrate intake\n",
    "- Libre 2 Glucose Sensor and LibreLink(Android) app to initialise sensors\n",
    "\n",
    "Through this project, I aim to demonstrate not only my technical skills in data analysis but also provide authentic insights into the complexities of diabetes management. Let's explore my real-world glucose monitoring data and uncover valuable patterns and trends!"
   ]
  },
  {
   "cell_type": "markdown",
   "id": "9a5fe641",
   "metadata": {},
   "source": [
    "# 1. Data Overview and Preprocessing\n",
    "\n",
    "In this initial stage, I'll prepare my data for analysis. The datasets used were obtained by completing a backup from Xdrip+ on an android device, connected to Libre 2 sensors for 14 days at a time(Instructions in README.md). Each new Libre 2 should have been initiated 1 hour prior to the previous expiring, which should negate warm-up gaps in the data. This datasets include CGM readings, insulin doses, and carbohydrate intake data. We will start by cleaning the data to remove any errors or inconsistencies, and creating useful time-based features to aid my analysis.\n",
    "\n",
    "## Import Libraries and Load Data"
   ]
  },
  {
   "cell_type": "code",
   "execution_count": 435,
   "id": "ec1248c8",
   "metadata": {},
   "outputs": [],
   "source": [
    "import pandas as pd\n",
    "import numpy as np\n",
    "import matplotlib.pyplot as plt\n",
    "import seaborn as sns\n",
    "from scipy import stats"
   ]
  },
  {
   "cell_type": "code",
   "execution_count": 436,
   "id": "bc7cd24c",
   "metadata": {},
   "outputs": [],
   "source": [
    "# Load my data\n",
    "df = pd.read_csv('data/sample_analysis_data.csv', index_col=0)"
   ]
  },
  {
   "cell_type": "code",
   "execution_count": 437,
   "id": "29377b71",
   "metadata": {},
   "outputs": [
    {
     "name": "stdout",
     "output_type": "stream",
     "text": [
      "<class 'pandas.core.frame.DataFrame'>\n",
      "Index: 138291 entries, 0 to 138290\n",
      "Data columns (total 6 columns):\n",
      " #   Column       Non-Null Count   Dtype  \n",
      "---  ------       --------------   -----  \n",
      " 0   glucose      138291 non-null  float64\n",
      " 1   carbs        138291 non-null  float64\n",
      " 2   basal        138291 non-null  float64\n",
      " 3   bolus        138291 non-null  float64\n",
      " 4   day_of_week  138291 non-null  object \n",
      " 5   time         138291 non-null  object \n",
      "dtypes: float64(4), object(2)\n",
      "memory usage: 7.4+ MB\n"
     ]
    }
   ],
   "source": [
    "df.info()"
   ]
  },
  {
   "cell_type": "markdown",
   "id": "cd98f0f6",
   "metadata": {},
   "source": [
    "## Useful columns\n",
    "\n",
    "We will create some extra columns that will be useful later on in this analysis.\n",
    "\n",
    "- **is_weekend**: This will be a boolean column represented by a 1 if day is Saturday or Sunday\n",
    "- **hour**: Used for easy filtering of data dependant on hour of day\n",
    "- **intervals_since_carbs**: This will be an interger representing the number of 5-minute intervals since last carbs were ate. This will be used for finding corrective bolus doses vs late meal bolus doses.\n",
    "- **no_treatments_for_4hours**: This will be used in determining which four hour periods can be assesed for isf calculations, only times where no extra carbs or insulin adjust the rate of change.\n",
    "- **hour_change**: This will represent the difference between the current glucose level and the previous hour used to determine if glucose is stable enough to consider for different calculations.\n",
    "- **is_stable**: - This will be used to see if the previous hours glucose change is <= 0.5 mmol and >= -0.5 mmol.\n",
    "- **is_moderate**: This will be used to see if the previous hours glucose change is <=1.0 mmol and >= -1.0 mmol"
   ]
  },
  {
   "cell_type": "code",
   "execution_count": 482,
   "id": "b1d7691d",
   "metadata": {},
   "outputs": [],
   "source": [
    "# Create boolean for is weekend\n",
    "df['is_weekend'] = df['day_of_week'].isin(['Saturday', 'Sunday']) # Can be used to distinguish between work and no work days\n",
    "\n",
    "# Convert the 'time' column from string to datetime\n",
    "df['time_dt'] = pd.to_datetime(df['time'], format='%H:%M:%S')\n",
    "# Extract the hour from the 'time' column and create the 'hour' column\n",
    "df['hour'] = df['time_dt'].dt.hour\n",
    "# Drop created column\n",
    "df = df.drop('time_dt', axis=1)\n",
    "\n",
    "\n",
    "# Create a new column for intervals since last carbs > 0.0\n",
    "def count_intervals_since_carbs(carb_value):\n",
    "    return 0 if carb_value > 0.0 else 1  # Reset count if carbs > 0.0\n",
    "\n",
    "# Apply the function to create a helper column\n",
    "df['reset'] = df['carbs'].apply(count_intervals_since_carbs)\n",
    "\n",
    "# Calculate the cumulative sum of the resets to create the intervals\n",
    "df['intervals_since_carbs'] = df['reset'].cumsum() - df['reset'].cumsum().where(df['reset'] == 0).ffill().fillna(0).astype(int)\n",
    "\n",
    "# Drop the helper column if not needed\n",
    "df.drop(columns=['reset'], inplace=True)\n",
    "\n",
    "\n",
    "# Create the new column and initialize it with True\n",
    "df['no_treatments_for_4hours'] = True\n",
    "# Iterate through each row\n",
    "for index in range(len(df) - 37):  # Exclude the last 36 rows to avoid index error\n",
    "    # Check the next 48 rows for any values in 'carbs' or 'bolus' greater than 0\n",
    "    if any(df['carbs'].iloc[index + 1:index + 49] > 0) or any(df['bolus'].iloc[index + 1:index + 49] > 0):\n",
    "        df.at[index, 'no_treatments_for_4hours'] = False  # Set to False if treatments are found\n",
    "\n",
    "# Calculate the change over the past 5 minutes\n",
    "df['change'] = df['glucose'] - df['glucose'].shift(-1)\n",
    "        \n",
    "# Calculate the change over the past hour\n",
    "df['hour_change'] = df['glucose'] - df['glucose'].shift(-12)\n",
    "\n",
    "# Define stability conditions\n",
    "stable_condition = (df['hour_change'] >= -0.5) & (df['hour_change'] <= 0.5)\n",
    "moderate_condition = (df['hour_change'] >= -1.0) & (df['hour_change'] <= 1.0)\n",
    "# Create a new column to indicate stability\n",
    "df['is_stable'] = stable_condition  # True if stable\n",
    "df['is_moderate'] = stable_condition | moderate_condition  # True if stable or moderately stable\n"
   ]
  },
  {
   "cell_type": "code",
   "execution_count": 483,
   "id": "941ab060",
   "metadata": {},
   "outputs": [
    {
     "data": {
      "text/html": [
       "<div>\n",
       "<style scoped>\n",
       "    .dataframe tbody tr th:only-of-type {\n",
       "        vertical-align: middle;\n",
       "    }\n",
       "\n",
       "    .dataframe tbody tr th {\n",
       "        vertical-align: top;\n",
       "    }\n",
       "\n",
       "    .dataframe thead th {\n",
       "        text-align: right;\n",
       "    }\n",
       "</style>\n",
       "<table border=\"1\" class=\"dataframe\">\n",
       "  <thead>\n",
       "    <tr style=\"text-align: right;\">\n",
       "      <th></th>\n",
       "      <th>glucose</th>\n",
       "      <th>carbs</th>\n",
       "      <th>basal</th>\n",
       "      <th>bolus</th>\n",
       "      <th>day_of_week</th>\n",
       "      <th>time</th>\n",
       "      <th>is_weekend</th>\n",
       "      <th>hour</th>\n",
       "      <th>intervals_since_carbs</th>\n",
       "      <th>no_treatments_for_4hours</th>\n",
       "      <th>hour_change</th>\n",
       "      <th>is_stable</th>\n",
       "      <th>is_moderate</th>\n",
       "      <th>change</th>\n",
       "    </tr>\n",
       "  </thead>\n",
       "  <tbody>\n",
       "    <tr>\n",
       "      <th>0</th>\n",
       "      <td>7.440193</td>\n",
       "      <td>0.0</td>\n",
       "      <td>0.0</td>\n",
       "      <td>0.0</td>\n",
       "      <td>Saturday</td>\n",
       "      <td>22:30:00</td>\n",
       "      <td>True</td>\n",
       "      <td>22</td>\n",
       "      <td>1</td>\n",
       "      <td>False</td>\n",
       "      <td>2.637623</td>\n",
       "      <td>False</td>\n",
       "      <td>False</td>\n",
       "      <td>0.507428</td>\n",
       "    </tr>\n",
       "    <tr>\n",
       "      <th>1</th>\n",
       "      <td>6.932764</td>\n",
       "      <td>0.0</td>\n",
       "      <td>0.0</td>\n",
       "      <td>0.0</td>\n",
       "      <td>Saturday</td>\n",
       "      <td>22:35:00</td>\n",
       "      <td>True</td>\n",
       "      <td>22</td>\n",
       "      <td>2</td>\n",
       "      <td>False</td>\n",
       "      <td>2.406517</td>\n",
       "      <td>False</td>\n",
       "      <td>False</td>\n",
       "      <td>0.221058</td>\n",
       "    </tr>\n",
       "    <tr>\n",
       "      <th>2</th>\n",
       "      <td>6.711706</td>\n",
       "      <td>0.0</td>\n",
       "      <td>0.0</td>\n",
       "      <td>0.0</td>\n",
       "      <td>Saturday</td>\n",
       "      <td>22:40:00</td>\n",
       "      <td>True</td>\n",
       "      <td>22</td>\n",
       "      <td>3</td>\n",
       "      <td>False</td>\n",
       "      <td>2.436661</td>\n",
       "      <td>False</td>\n",
       "      <td>False</td>\n",
       "      <td>0.334099</td>\n",
       "    </tr>\n",
       "    <tr>\n",
       "      <th>3</th>\n",
       "      <td>6.377608</td>\n",
       "      <td>0.0</td>\n",
       "      <td>0.0</td>\n",
       "      <td>0.0</td>\n",
       "      <td>Saturday</td>\n",
       "      <td>22:45:00</td>\n",
       "      <td>True</td>\n",
       "      <td>22</td>\n",
       "      <td>4</td>\n",
       "      <td>False</td>\n",
       "      <td>2.223139</td>\n",
       "      <td>False</td>\n",
       "      <td>False</td>\n",
       "      <td>0.334099</td>\n",
       "    </tr>\n",
       "    <tr>\n",
       "      <th>4</th>\n",
       "      <td>6.043509</td>\n",
       "      <td>0.0</td>\n",
       "      <td>0.0</td>\n",
       "      <td>0.0</td>\n",
       "      <td>Saturday</td>\n",
       "      <td>22:50:00</td>\n",
       "      <td>True</td>\n",
       "      <td>22</td>\n",
       "      <td>5</td>\n",
       "      <td>False</td>\n",
       "      <td>1.537357</td>\n",
       "      <td>False</td>\n",
       "      <td>False</td>\n",
       "      <td>0.416996</td>\n",
       "    </tr>\n",
       "    <tr>\n",
       "      <th>...</th>\n",
       "      <td>...</td>\n",
       "      <td>...</td>\n",
       "      <td>...</td>\n",
       "      <td>...</td>\n",
       "      <td>...</td>\n",
       "      <td>...</td>\n",
       "      <td>...</td>\n",
       "      <td>...</td>\n",
       "      <td>...</td>\n",
       "      <td>...</td>\n",
       "      <td>...</td>\n",
       "      <td>...</td>\n",
       "      <td>...</td>\n",
       "      <td>...</td>\n",
       "    </tr>\n",
       "    <tr>\n",
       "      <th>138286</th>\n",
       "      <td>4.303597</td>\n",
       "      <td>0.0</td>\n",
       "      <td>0.0</td>\n",
       "      <td>0.0</td>\n",
       "      <td>Saturday</td>\n",
       "      <td>11:40:00</td>\n",
       "      <td>True</td>\n",
       "      <td>11</td>\n",
       "      <td>17</td>\n",
       "      <td>True</td>\n",
       "      <td>NaN</td>\n",
       "      <td>False</td>\n",
       "      <td>False</td>\n",
       "      <td>0.098505</td>\n",
       "    </tr>\n",
       "    <tr>\n",
       "      <th>138287</th>\n",
       "      <td>4.205091</td>\n",
       "      <td>0.0</td>\n",
       "      <td>0.0</td>\n",
       "      <td>0.0</td>\n",
       "      <td>Saturday</td>\n",
       "      <td>11:45:00</td>\n",
       "      <td>True</td>\n",
       "      <td>11</td>\n",
       "      <td>18</td>\n",
       "      <td>True</td>\n",
       "      <td>NaN</td>\n",
       "      <td>False</td>\n",
       "      <td>False</td>\n",
       "      <td>0.002239</td>\n",
       "    </tr>\n",
       "    <tr>\n",
       "      <th>138288</th>\n",
       "      <td>4.202853</td>\n",
       "      <td>0.0</td>\n",
       "      <td>0.0</td>\n",
       "      <td>0.0</td>\n",
       "      <td>Saturday</td>\n",
       "      <td>11:50:00</td>\n",
       "      <td>True</td>\n",
       "      <td>11</td>\n",
       "      <td>19</td>\n",
       "      <td>True</td>\n",
       "      <td>NaN</td>\n",
       "      <td>False</td>\n",
       "      <td>False</td>\n",
       "      <td>0.002239</td>\n",
       "    </tr>\n",
       "    <tr>\n",
       "      <th>138289</th>\n",
       "      <td>4.200614</td>\n",
       "      <td>0.0</td>\n",
       "      <td>0.0</td>\n",
       "      <td>0.0</td>\n",
       "      <td>Saturday</td>\n",
       "      <td>11:55:00</td>\n",
       "      <td>True</td>\n",
       "      <td>11</td>\n",
       "      <td>20</td>\n",
       "      <td>True</td>\n",
       "      <td>NaN</td>\n",
       "      <td>False</td>\n",
       "      <td>False</td>\n",
       "      <td>-0.111938</td>\n",
       "    </tr>\n",
       "    <tr>\n",
       "      <th>138290</th>\n",
       "      <td>4.312552</td>\n",
       "      <td>0.0</td>\n",
       "      <td>0.0</td>\n",
       "      <td>0.0</td>\n",
       "      <td>Saturday</td>\n",
       "      <td>12:00:00</td>\n",
       "      <td>True</td>\n",
       "      <td>12</td>\n",
       "      <td>21</td>\n",
       "      <td>True</td>\n",
       "      <td>NaN</td>\n",
       "      <td>False</td>\n",
       "      <td>False</td>\n",
       "      <td>NaN</td>\n",
       "    </tr>\n",
       "  </tbody>\n",
       "</table>\n",
       "<p>138291 rows × 14 columns</p>\n",
       "</div>"
      ],
      "text/plain": [
       "         glucose  carbs  basal  bolus day_of_week      time  is_weekend  hour  \\\n",
       "0       7.440193    0.0    0.0    0.0    Saturday  22:30:00        True    22   \n",
       "1       6.932764    0.0    0.0    0.0    Saturday  22:35:00        True    22   \n",
       "2       6.711706    0.0    0.0    0.0    Saturday  22:40:00        True    22   \n",
       "3       6.377608    0.0    0.0    0.0    Saturday  22:45:00        True    22   \n",
       "4       6.043509    0.0    0.0    0.0    Saturday  22:50:00        True    22   \n",
       "...          ...    ...    ...    ...         ...       ...         ...   ...   \n",
       "138286  4.303597    0.0    0.0    0.0    Saturday  11:40:00        True    11   \n",
       "138287  4.205091    0.0    0.0    0.0    Saturday  11:45:00        True    11   \n",
       "138288  4.202853    0.0    0.0    0.0    Saturday  11:50:00        True    11   \n",
       "138289  4.200614    0.0    0.0    0.0    Saturday  11:55:00        True    11   \n",
       "138290  4.312552    0.0    0.0    0.0    Saturday  12:00:00        True    12   \n",
       "\n",
       "        intervals_since_carbs  no_treatments_for_4hours  hour_change  \\\n",
       "0                           1                     False     2.637623   \n",
       "1                           2                     False     2.406517   \n",
       "2                           3                     False     2.436661   \n",
       "3                           4                     False     2.223139   \n",
       "4                           5                     False     1.537357   \n",
       "...                       ...                       ...          ...   \n",
       "138286                     17                      True          NaN   \n",
       "138287                     18                      True          NaN   \n",
       "138288                     19                      True          NaN   \n",
       "138289                     20                      True          NaN   \n",
       "138290                     21                      True          NaN   \n",
       "\n",
       "        is_stable  is_moderate    change  \n",
       "0           False        False  0.507428  \n",
       "1           False        False  0.221058  \n",
       "2           False        False  0.334099  \n",
       "3           False        False  0.334099  \n",
       "4           False        False  0.416996  \n",
       "...           ...          ...       ...  \n",
       "138286      False        False  0.098505  \n",
       "138287      False        False  0.002239  \n",
       "138288      False        False  0.002239  \n",
       "138289      False        False -0.111938  \n",
       "138290      False        False       NaN  \n",
       "\n",
       "[138291 rows x 14 columns]"
      ]
     },
     "execution_count": 483,
     "metadata": {},
     "output_type": "execute_result"
    }
   ],
   "source": [
    "df"
   ]
  },
  {
   "cell_type": "markdown",
   "id": "619ecc4f",
   "metadata": {},
   "source": [
    "## Visual data inspection\n",
    "\n",
    "We will quickly visualise the major data elements and look for any obvious errors."
   ]
  },
  {
   "cell_type": "markdown",
   "id": "77392f96",
   "metadata": {},
   "source": [
    "### Basal Insulin"
   ]
  },
  {
   "cell_type": "code",
   "execution_count": 442,
   "id": "2a1a81fd",
   "metadata": {},
   "outputs": [
    {
     "data": {
      "image/png": "[encoded data removed]",
      "text/plain": [
       "<Figure size 720x432 with 1 Axes>"
      ]
     },
     "metadata": {
      "needs_background": "light"
     },
     "output_type": "display_data"
    }
   ],
   "source": [
    "# Display all basal dose values\n",
    "plt.figure(figsize=(10, 6))\n",
    "plt.plot(df['basal'], label='Basal Insulin')\n",
    "plt.title('Basal Insulin Over Time')\n",
    "plt.xlabel('Time')\n",
    "plt.ylabel('Basal Insulin (units)')\n",
    "plt.legend()\n",
    "plt.show()"
   ]
  },
  {
   "cell_type": "markdown",
   "id": "9b3b17fb",
   "metadata": {},
   "source": [
    "We can see that basal doses of insulin were rarely recorded in the first half of the dataset, for this reason we will omit basal doses completely from any calculations in the current analysis. We will still investigate the effictiveness of the basal dose but will simply look for periods of time where no bolus injection were administered and no carbs consumed. This lack of proper data collection will stop us from looking at the effectiveness of basal insulin in any fine gradient of time, or in its effectiveness as each doses wears off but can still give us an idea of the overall effectiveness of the current regime."
   ]
  },
  {
   "cell_type": "markdown",
   "id": "a5567239",
   "metadata": {},
   "source": [
    "### Bolus insulin"
   ]
  },
  {
   "cell_type": "code",
   "execution_count": 443,
   "id": "c628c86a",
   "metadata": {},
   "outputs": [
    {
     "data": {
      "image/png": "[encoded data removed]",
      "text/plain": [
       "<Figure size 720x432 with 1 Axes>"
      ]
     },
     "metadata": {
      "needs_background": "light"
     },
     "output_type": "display_data"
    }
   ],
   "source": [
    "# Display all bolus dose values\n",
    "plt.figure(figsize=(10, 6))\n",
    "plt.plot(df['bolus'], label='Bolus Insulin')\n",
    "plt.title('Bolus Insulin Over Time')\n",
    "plt.xlabel('Time')\n",
    "plt.ylabel('Bolus Insulin (units)')\n",
    "plt.legend()\n",
    "plt.show()"
   ]
  },
  {
   "cell_type": "markdown",
   "id": "37a10a40",
   "metadata": {},
   "source": [
    "We can see that bolus insulin doses seem to have been documented consistently and we can therefore complete an in depth analysis of the ISF and ICR at different times of day and at weekends as opposed to work days for this patients data in this timeframe."
   ]
  },
  {
   "cell_type": "markdown",
   "id": "e3285efd",
   "metadata": {},
   "source": [
    "### Carbohydrates"
   ]
  },
  {
   "cell_type": "code",
   "execution_count": 445,
   "id": "e47bde0e",
   "metadata": {},
   "outputs": [
    {
     "data": {
      "image/png": "[encoded data removed]",
      "text/plain": [
       "<Figure size 720x432 with 1 Axes>"
      ]
     },
     "metadata": {
      "needs_background": "light"
     },
     "output_type": "display_data"
    }
   ],
   "source": [
    "# Display all carbs values\n",
    "plt.figure(figsize=(10, 6))\n",
    "plt.plot(df['carbs'], label='Carbohydrates')\n",
    "plt.title('Carbs Consumption over Time')\n",
    "plt.xlabel('Time')\n",
    "plt.ylabel('Carbohydrates Consumed (grams)')\n",
    "plt.legend()\n",
    "plt.show()"
   ]
  },
  {
   "cell_type": "markdown",
   "id": "ea57883d",
   "metadata": {},
   "source": [
    "It would seem carbohydrate consumption has also been consistently recorded and shows varying meal values from very large to very small and we can see a few clear areas with consistently lower carbohydrate consumption although these dont seem to last very long. We can therefore do some digging into varying meal carbohydrate content and its affect on glucose control."
   ]
  },
  {
   "cell_type": "markdown",
   "id": "d69a86e1",
   "metadata": {},
   "source": [
    "### Glucose"
   ]
  },
  {
   "cell_type": "code",
   "execution_count": 446,
   "id": "3ca32168",
   "metadata": {},
   "outputs": [
    {
     "data": {
      "image/png": "[encoded data removed]",
      "text/plain": [
       "<Figure size 720x432 with 1 Axes>"
      ]
     },
     "metadata": {
      "needs_background": "light"
     },
     "output_type": "display_data"
    }
   ],
   "source": [
    "# Calculate the quartiles and median\n",
    "median = df['glucose'].median()\n",
    "q1 = df['glucose'].quantile(0.25)  # 25th percentile\n",
    "q3 = df['glucose'].quantile(0.75)  # 75th percentile\n",
    "\n",
    "# Display glucose values and quartile/median lines\n",
    "plt.figure(figsize=(10, 6))\n",
    "\n",
    "# Plot glucose values\n",
    "plt.plot(df['glucose'], label='Glucose', color='blue')\n",
    "\n",
    "# Add horizontal lines for median and quartiles\n",
    "plt.axhline(y=median, color='green', linestyle='--', label='Median')\n",
    "plt.axhline(y=q1, color='orange', linestyle='--', label='25th Percentile (Q1)')\n",
    "plt.axhline(y=q3, color='red', linestyle='--', label='75th Percentile (Q3)')\n",
    "\n",
    "# Add title, labels, and legend\n",
    "plt.title('Libre2 Glucose Readings Over Time')\n",
    "plt.xlabel('Time')\n",
    "plt.ylabel('Glucose Reading (mmol/l)')\n",
    "plt.legend()\n",
    "\n",
    "# Show the plot\n",
    "plt.show()"
   ]
  },
  {
   "cell_type": "markdown",
   "id": "6db9267a",
   "metadata": {},
   "source": [
    "From this slightly more complicated look at our complete dataset of gucose readings we can see that all values seem to lie within our defined range. There is lots of variability and with such a long timespan it is difficult to see anything interesting in this view, but the data lloks good to proceed.\n",
    "\n",
    "## Assumptions\n",
    "\n",
    "As of the time of this analysis the recommended targets would be:\n",
    "\n",
    "1. **Time in Range (TIR)**:\n",
    "\n",
    "- Target range: 3.9-10.0 mmol/L\n",
    "- Goal: >70% of time (>16 hours 48 minutes per day) in this range\n",
    "\n",
    "\n",
    "2. **Time Below Range (TBR)**:\n",
    "\n",
    "- <4% of time (<1 hour per day) below 3.9 mmol/L\n",
    "- <1% of time (<15 minutes per day) below 3.0 mmol/L\n",
    "\n",
    "\n",
    "3. **Time Above Range (TAR)**:\n",
    "\n",
    "- <25% of time (<6 hours per day) above 10.0 mmol/L\n",
    "- <5% of time (<1 hour 12 minutes per day) above 13.9 mmol/L\n",
    "\n",
    "\n",
    "4. **HbA1c**:\n",
    "\n",
    "- Target: around 53 mmol/mol (7.0%)\n",
    "- This correlates with achieving >70% TIR\n",
    "\n",
    "\n",
    "\n",
    "*These targets are based on general recommendations for adults with type 1 diabetes. However, it's important to note that these should be individualized based on the person's specific circumstances, lifestyle, and in consultation with their healthcare team.*"
   ]
  },
  {
   "cell_type": "markdown",
   "id": "526dc7f6",
   "metadata": {},
   "source": [
    "# 2. Overall Glucose Control Metrics\n",
    "Here, I'll calculate key metrics that give me a broad view of my glucose control. This includes analyzing my Time in Range (TIR), average glucose levels, and the frequency of high and low glucose events. These metrics will provide me with a baseline understanding of my overall glucose management.\n",
    "\n",
    "## Time in Range Assessment"
   ]
  },
  {
   "cell_type": "code",
   "execution_count": 447,
   "id": "2eb0a2ea",
   "metadata": {},
   "outputs": [
    {
     "name": "stdout",
     "output_type": "stream",
     "text": [
      "Time in Range Metrics:\n",
      "Above Range (> 10.0 mmol/L): 11.29%\n",
      "In Range (3.9-10.0 mmol/L): 72.68%\n",
      "Below Range (3.0-3.9 mmol/L): 9.07%\n",
      "Extremely Below Range (< 3.0 mmol/L): 6.96%\n"
     ]
    }
   ],
   "source": [
    "def calculate_tir(data):\n",
    "    total_readings = len(data)\n",
    "    in_range = ((data >= 3.9) & (data <= 10.0)).sum()\n",
    "    below_range = ((data >= 3.0) & (data <= 3.9)).sum()\n",
    "    above_range = (data > 10.0).sum()\n",
    "    extreme_low = (data < 3.0).sum()\n",
    "    \n",
    "    return {\n",
    "        'in_range': in_range / total_readings * 100,\n",
    "        'above_range': above_range / total_readings * 100,\n",
    "        'below_range': below_range / total_readings * 100,\n",
    "        'extreme_low': extreme_low / total_readings * 100\n",
    "    }\n",
    "    \n",
    "tir = calculate_tir(df['glucose'])\n",
    "print(\"Time in Range Metrics:\")\n",
    "print(f\"Above Range (> 10.0 mmol/L): {tir['above_range']:.2f}%\")\n",
    "print(f\"In Range (3.9-10.0 mmol/L): {tir['in_range']:.2f}%\")\n",
    "print(f\"Below Range (3.0-3.9 mmol/L): {tir['below_range']:.2f}%\")\n",
    "print(f\"Extremely Below Range (< 3.0 mmol/L): {tir['extreme_low']:.2f}%\")"
   ]
  },
  {
   "cell_type": "code",
   "execution_count": 448,
   "id": "09a9b20d",
   "metadata": {},
   "outputs": [
    {
     "data": {
      "image/png": "[encoded data removed]",
      "text/plain": [
       "<Figure size 720x432 with 1 Axes>"
      ]
     },
     "metadata": {},
     "output_type": "display_data"
    }
   ],
   "source": [
    "# Define colors for each section: green for in-range, red for below, yellow for above\n",
    "colors = ['green', 'yellow', 'orange', 'red']\n",
    "\n",
    "# Visualize Time in Range\n",
    "plt.figure(figsize=(10, 6))\n",
    "plt.pie(tir.values(), labels=tir.keys(), autopct='%1.1f%%', colors=colors)\n",
    "plt.title('Time in Range Distribution')\n",
    "plt.show()"
   ]
  },
  {
   "cell_type": "markdown",
   "id": "3531eab8",
   "metadata": {},
   "source": [
    "### Time in Range Analysis:\n",
    "- The pie chart shows the distribution of glucose readings across different ranges.\n",
    "- I can see I was in range for 72.68% of the time in this period, I was clearly missing these target for time below range and extremely below range, but meeting targets for both time-in-range and time-above-range.\n",
    "- Time below range factors should be investigated as a major part of this analysis.\n",
    "- This gives us an overall picture of glycemic control, but we should also look at other metrics."
   ]
  },
  {
   "cell_type": "markdown",
   "id": "315e1e8f",
   "metadata": {},
   "source": [
    "## Glycemic Variability Metrics"
   ]
  },
  {
   "cell_type": "code",
   "execution_count": 449,
   "id": "583e0c70",
   "metadata": {},
   "outputs": [
    {
     "name": "stdout",
     "output_type": "stream",
     "text": [
      "Mean Glucose: 6.59 mmol/L\n",
      "Median Glucose: 6.12 mmol/L\n",
      "Standard Deviation: 2.96 mmol/L\n",
      "Coefficient of Variation: 44.96%\n"
     ]
    }
   ],
   "source": [
    "mean_glucose = df['glucose'].mean()\n",
    "median_glucose = df['glucose'].median()\n",
    "std_glucose = df['glucose'].std()\n",
    "cv_glucose = (std_glucose / mean_glucose) * 100\n",
    "\n",
    "print(f\"Mean Glucose: {mean_glucose:.2f} mmol/L\")\n",
    "print(f\"Median Glucose: {median_glucose:.2f} mmol/L\")\n",
    "print(f\"Standard Deviation: {std_glucose:.2f} mmol/L\")\n",
    "print(f\"Coefficient of Variation: {cv_glucose:.2f}%\")"
   ]
  },
  {
   "cell_type": "code",
   "execution_count": 450,
   "id": "843ecf97",
   "metadata": {},
   "outputs": [
    {
     "data": {
      "image/png": "[encoded data removed]",
      "text/plain": [
       "<Figure size 720x432 with 1 Axes>"
      ]
     },
     "metadata": {
      "needs_background": "light"
     },
     "output_type": "display_data"
    }
   ],
   "source": [
    "# Visualize glucose distribution\n",
    "plt.figure(figsize=(10, 6))\n",
    "\n",
    "# Create a histogram\n",
    "hist = sns.histplot(df['glucose'], bins=50, kde=True)\n",
    "\n",
    "# Add vertical gridlines at 3.9 and 10\n",
    "plt.axvline(x=3.9, color='grey', linestyle='--', label='3.9 mmol/L')\n",
    "plt.axvline(x=10.0, color='grey', linestyle='--', label='10 mmol/L')\n",
    "\n",
    "# Color bars based on glucose levels\n",
    "for patch in hist.patches:\n",
    "    if patch.get_x() < 3.9:\n",
    "        patch.set_facecolor('red')  # Below 3.9 mmol/L\n",
    "    elif 3.9 <= patch.get_x() + patch.get_width() <= 10:\n",
    "        patch.set_facecolor('green')  # Between 3.9 and 10 mmol/L\n",
    "    else:\n",
    "        patch.set_facecolor('orange')  # Above 10 mmol/L\n",
    "\n",
    "# Title and labels\n",
    "plt.title('Distribution of Glucose Readings')\n",
    "plt.xlabel('Glucose (mmol/L)')\n",
    "plt.ylabel('Frequency')\n",
    "\n",
    "# Add legend\n",
    "plt.legend()\n",
    "\n",
    "# Show plot\n",
    "plt.show()"
   ]
  },
  {
   "cell_type": "markdown",
   "id": "4fb2b206",
   "metadata": {},
   "source": [
    "### Glycemic Variability Analysis:\n",
    "- The histogram shows the distribution of glucose readings.\n",
    "- **Mean glucose is 6.59 mmol**, which is within the defined range.\n",
    "- The **standard deviation of 2.96 mmol** indicates moderatley-high variability.\n",
    "- **Coefficient of Variation (CV) of 44.96%** suggests high variation (Defined as high when >36%).\n",
    "- The distribution shows a **longer tail on the right side** suggesting that high values, though rarely, can be very high.\n",
    "- The distribution also shows a **larger count at 2.2 mmol**, which is due to our limiting the values to a minimum of 2.2 mmol/l. This is expected and no action is required.\n",
    "- The distribution also shows a **smaller tail on the low side, but a much higher frequency**. Episodes of low blood glucose seem to occur much more and are more persistent than times of high glucose. \n",
    "\n",
    "Finding patterns and insights to help negate low blood glucoses episode should be paramount within this analysis."
   ]
  },
  {
   "cell_type": "markdown",
   "id": "78c22394",
   "metadata": {},
   "source": [
    "# 3. Insulin Effectiveness Assesment\n",
    "This section focuses on how well my bolus insulin is working. I'll calculate my Insulin Sensitivity Factor (ISF) and Insulin-to-Carb Ratio (ICR), and examine how these might vary throughout the day. This information is crucial for optimizing my insulin dosing strategy.\n",
    "\n",
    "## Insulin Sensitivity Factor (ISF) Calculation"
   ]
  },
  {
   "cell_type": "code",
   "execution_count": 451,
   "id": "48875e70",
   "metadata": {},
   "outputs": [
    {
     "name": "stdout",
     "output_type": "stream",
     "text": [
      "Occurrences where conditions are met: 27\n"
     ]
    }
   ],
   "source": [
    "# Count occurrences where all conditions for ISF calculation are met\n",
    "count_conditions_met = df[\n",
    "    (df['is_moderate']) &  # Glucose change < +-1 mmol in previous hour\n",
    "    (df['no_treatments_for_4hours']) & # No carbs or insulin in following 4 hours\n",
    "    (df['intervals_since_carbs'] > 24) & # No carbs consumed in the past 2 hours\n",
    "    (df['bolus'] > 0) # Bolus injection administered\n",
    "].shape[0]  # Show number of rows\n",
    "\n",
    "print(f\"Occurrences where conditions are met: {count_conditions_met - 48}\")"
   ]
  },
  {
   "cell_type": "code",
   "execution_count": 452,
   "id": "b6890c8a",
   "metadata": {},
   "outputs": [
    {
     "name": "stdout",
     "output_type": "stream",
     "text": [
      "Average Insulin Sensitivity Factor: 0.11 mmol/L per unit\n"
     ]
    }
   ],
   "source": [
    "def calculate_isf(data):\n",
    "    \n",
    "    corrections = data[ (data['is_moderate']) & data['no_treatments_for_4hours'] & (data['intervals_since_carbs'] > 24) & (data['bolus'] > 0)].copy() # >48 more than 4 hour\n",
    "    \n",
    "    # Calculate glucose change over 4 hours\n",
    "    corrections['glucose_change'] = corrections['glucose'] - corrections['glucose'].shift(-48)\n",
    "    \n",
    "     # Drop the last 48 rows just before final calculations\n",
    "    corrections = corrections.iloc[:-48]\n",
    "    \n",
    "    # Calculate isf\n",
    "    corrections['isf'] = corrections['glucose_change'] / corrections['bolus']\n",
    "    \n",
    "    return corrections['isf'].mean(), corrections['isf']\n",
    "\n",
    "isf, isf_data = calculate_isf(df)\n",
    "print(f\"Average Insulin Sensitivity Factor: {isf:.2f} mmol/L per unit\")"
   ]
  },
  {
   "cell_type": "markdown",
   "id": "5337e4c3",
   "metadata": {},
   "source": [
    "### Insulin Sensitivity Factor (ISF) Analysis\n",
    "\n",
    "### Results\n",
    "- **Calculated Average Insulin Sensitivity Factor: 0.11 mmol/L per unit**\n",
    "- My estimated ISF: 2.0 mmol/L per unit\n",
    "- Number of data points used in calculation: 27\n",
    "\n",
    "### Interpretation\n",
    "The calculated ISF of 0.11 mmol/L per unit is significantly lower than my estimated ISF of 2.0 mmol/L per unit, which I find to be pretty accurate in practice. This discrepancy is likely due to the scarcity of data points and the strict filtering conditions I've applied.\n",
    "\n",
    "### Data Filtering\n",
    "For this calculation, I used the following criteria:\n",
    "- Bolus insulin > 0\n",
    "- No carbs in the previous 2 hours\n",
    "- No insulin or carbs in the following 4 hours\n",
    "- Blood glucose changed < 1.0 mmol in the previous hour\n",
    "\n",
    "These strict conditions, while intended to isolate \"clean\" correction doses, have resulted in very few data points (only 27) being used for the calculation.\n",
    "\n",
    "### Considerations\n",
    "1. **Data Scarcity**: With only 27 data points meeting my criteria, the calculated ISF is likely not representative of my true insulin sensitivity. I need to find ways to gather more relevant data points.\n",
    "\n",
    "2. **Filtering Criteria**: My current filtering might be too strict, excluding many potentially useful data points. I might need to adjust these criteria to balance between data quality and quantity.\n",
    "\n",
    "3. **Meal and Snack Timing**: The low number of qualifying events might be due to my meal spacing being close to the duration of bolus insulin action, or frequent snacking. This makes it challenging to isolate true correction doses.\n",
    "\n",
    "4. **Estimated vs. Calculated ISF**: My estimated ISF of 2.0 mmol/L per unit seems to work well in practice. The large discrepancy with the calculated value suggests that my data collection or analysis method needs refinement, rather than indicating an issue with my actual insulin sensitivity.\n",
    "\n",
    "### Next Steps\n",
    "1. I'll continue monitoring and collecting data, focusing on occasions where I can clearly isolate correction doses.\n",
    "2. I'll review my meal timing and snacking habits. If possible, I'll try to create more opportunities for \"clean\" correction doses by spacing out meals and avoiding snacks for a few hours after corrections.\n",
    "3. I'll consider slightly relaxing my filtering criteria to include more data points, which might provide a more robust ISF calculation.\n",
    "4. I'll keep using my estimated ISF of 2.0 mmol/L for corrections, as it seems to work well. However, I'll pay close attention to the outcomes and adjust if needed.\n",
    "5. I might explore other methods of calculating ISF that could be more suitable for my eating and dosing patterns.\n",
    "\n",
    "*This analysis reminds me that while data-driven insights are valuable, they need to be balanced with real-world experience and practical outcomes. My current goal is to refine my data collection and analysis to better reflect my actual insulin sensitivity, which I've found to be reasonably well-represented by my current estimated ISF.*"
   ]
  },
  {
   "cell_type": "markdown",
   "id": "90c8d205",
   "metadata": {},
   "source": [
    "## Insulin-to-Carb Ratio (ICR) Assessment"
   ]
  },
  {
   "cell_type": "code",
   "execution_count": 468,
   "id": "e3f62a03",
   "metadata": {},
   "outputs": [
    {
     "name": "stdout",
     "output_type": "stream",
     "text": [
      "Occurrences where conditions are met: 1152\n"
     ]
    }
   ],
   "source": [
    "# Count occurrences where all conditions for ICR calculation are met\n",
    "count_conditions_met = df[\n",
    "    (df['bolus'] > 0) &  # Bolus injection administered\n",
    "    (df['carbs'] > 0) & # Carbs consumed\n",
    "    (df['intervals_since_carbs'] >= 0)\n",
    "    ].shape[0]  # Show number of rows\n",
    "\n",
    "print(f\"Occurrences where conditions are met: {count_conditions_met}\")"
   ]
  },
  {
   "cell_type": "code",
   "execution_count": 469,
   "id": "231dfd7a",
   "metadata": {},
   "outputs": [
    {
     "name": "stdout",
     "output_type": "stream",
     "text": [
      "Average Insulin-to-Carb Ratio: 1:8.8\n"
     ]
    }
   ],
   "source": [
    "def calculate_icr(data):\n",
    "    # Filter for meal boluses\n",
    "    meals = data[(data['bolus'] > 0) & (data['carbs'] > 0)].copy()\n",
    "    meals['icr'] = meals['carbs'] / meals['bolus']\n",
    "    \n",
    "    return meals['icr'].mean()\n",
    "\n",
    "icr = calculate_icr(df)\n",
    "print(f\"Average Insulin-to-Carb Ratio: 1:{icr:.1f}\")"
   ]
  },
  {
   "cell_type": "markdown",
   "id": "a0af74ee",
   "metadata": {},
   "source": [
    "### Insulin-to-Carb Ratio (ICR) Analysis\n",
    "\n",
    "The **calculated average ICR of 1:8.8** aligns well with my personal experience. Here's how it compares to my observations:\n",
    "\n",
    "1. **Morning ICR**: The calculated ratio is very close to the lower end of my morning ICR range (1:8), which I've found to be accurate.\n",
    "2. **Daily Variation**: My experience suggests that my ICR varies throughout the day, starting lower in the morning (around 1:8) and increasing as the day progresses.\n",
    "3. **Recent Trend**: I've noticed that I've been able to use a higher ICR (around 1:12) more recently. The calculated average of 1:8.8 might be reflecting a mix of older and newer data points.\n",
    "\n",
    "### Considerations\n",
    "\n",
    "1. **Time-of-Day Variation**: The calculated average doesn't capture the variations I've observed throughout the day. It might be useful to segment the ICR calculation by time of day to see if the data reflects this pattern.\n",
    "2. **Recent Changes**: Given that I've noticed a shift towards a higher ICR recently (around 1:12), it could be beneficial to analyze more recent data separately to see if this trend is reflected in the calculations.\n",
    "3. **Factors Affecting ICR**: Various factors can influence ICR, including:\n",
    "\n",
    "- Time of day\n",
    "- Physical activity\n",
    "- Hormonal changes\n",
    "- Type and composition of meals, it might be worth investigating how these factors correlate with my ICR in the data.\n",
    "\n",
    "\n",
    "3. **Data Quality**: The calculation method I used includes all meals where both insulin and carbs were recorded. It might be worth considering if there are any outliers or special circumstances (like correction doses with meals) that could be skewing the average.\n",
    "\n",
    "### Next Steps\n",
    "\n",
    "1. I'll analyze my ICR by time of day to see if the data reflects the pattern I've observed (lower in the morning, higher later in the day).\n",
    "2. I'll look at my most recent data (last month or two) to see if it shows the trend towards a higher ICR that I've been experiencing.\n",
    "3. I'll consider tracking additional factors (like exercise, stress levels, or meal composition) to see how they might be influencing my ICR.\n",
    "4. I'll continue to use my experience-based ICR range, starting with 1:8 in the morning and adjusting up to 1:12 later in the day, while monitoring the outcomes closely.\n",
    "5. I might experiment with slightly higher ICRs (like 1:10 to 1:14) to see if my recent trend towards needing less insulin continues.\n",
    "\n",
    "This analysis shows that my data-driven results largely confirm my personal observations. However, it also highlights the importance of considering time-of-day variations and recent trends in my insulin needs. As always, I'll continue to balance this data analysis with my real-world experiences and consult with my healthcare team before making significant changes to my insulin dosing strategy."
   ]
  },
  {
   "cell_type": "markdown",
   "id": "c8393b25",
   "metadata": {},
   "source": [
    "## Insulin-to-Carb (ICR) Hourly Assesment"
   ]
  },
  {
   "cell_type": "code",
   "execution_count": 470,
   "id": "35733579",
   "metadata": {},
   "outputs": [
    {
     "name": "stdout",
     "output_type": "stream",
     "text": [
      "Insulin-to-Carb Ratio (ICR) by Hour:\n",
      "hour\n",
      "0     15.148810\n",
      "1     13.666667\n",
      "2     16.750000\n",
      "3      2.723133\n",
      "4      4.453161\n",
      "5      4.205882\n",
      "6      6.224915\n",
      "7      9.210213\n",
      "8      8.279157\n",
      "9      8.184290\n",
      "10     8.983743\n",
      "11     9.144020\n",
      "12    10.368468\n",
      "13     9.379582\n",
      "14    10.284215\n",
      "15     9.139168\n",
      "16    10.298512\n",
      "17     8.757288\n",
      "18     8.903080\n",
      "19     9.099049\n",
      "20     8.899179\n",
      "21     9.013095\n",
      "22    12.530702\n",
      "23    13.225108\n",
      "Name: icr, dtype: float64\n"
     ]
    }
   ],
   "source": [
    "def calculate_icr_by_hour(data):\n",
    "    # Filter for meal boluses\n",
    "    meals = data[(data['bolus'] > 0) & (data['carbs'] > 0)].copy()\n",
    "\n",
    "    # Calculate the ICR for each hour\n",
    "    meals['icr'] = meals['carbs'] / meals['bolus']\n",
    "\n",
    "    # Group by hour and calculate the mean ICR for each hour\n",
    "    icr_by_hour = meals.groupby('hour')['icr'].mean()\n",
    "\n",
    "    return icr_by_hour\n",
    "\n",
    "# Call the function and store the result\n",
    "icr_by_hour = calculate_icr_by_hour(df)\n",
    "\n",
    "# Print the ICR for each hour\n",
    "print(\"Insulin-to-Carb Ratio (ICR) by Hour:\")\n",
    "print(icr_by_hour)"
   ]
  },
  {
   "cell_type": "code",
   "execution_count": 471,
   "id": "0d873b91",
   "metadata": {},
   "outputs": [
    {
     "data": {
      "image/png": "[encoded data removed]",
      "text/plain": [
       "<Figure size 720x432 with 1 Axes>"
      ]
     },
     "metadata": {
      "needs_background": "light"
     },
     "output_type": "display_data"
    }
   ],
   "source": [
    "# Plot hourly ICR Estimates\n",
    "plt.figure(figsize=(10, 6))\n",
    "plt.plot(icr_by_hour.index, icr_by_hour.values, marker='o')\n",
    "plt.title('Insulin-to-Carb Ratio (ICR) by Hour of the Day')\n",
    "plt.xlabel('Hour of the Day')\n",
    "plt.ylabel('ICR (Carbs per Unit of Insulin)')\n",
    "plt.grid(True)\n",
    "plt.show()"
   ]
  },
  {
   "cell_type": "markdown",
   "id": "1e1ec80b",
   "metadata": {},
   "source": [
    "### Insulin-to-Carb Ratio (ICR) Hourly Analysis\n",
    "\n",
    "\n",
    "### Summary of Results\n",
    "\n",
    "I've calculated my ICR for each hour of the day, considering my lifestyle, data recording habits, and basal insulin regimen:\n",
    "\n",
    "1. **Late Evening to Early Morning (10 PM - 3 AM)**: ICR ranges from about 1:12 to 1:17, but these values may be less reliable due to less precise recording and fewer data points.\n",
    "2. **Early Morning (4 AM - 6 AM)**: There's a significant drop in ICR, ranging from about 1:4 to 1:6. This coincides with my regular 4 AM wake-up time and first basal dose.\n",
    "3. **Morning (7 AM - 11 AM)**: My ICR gradually increases from about 1:8 to 1:9.\n",
    "4. **Afternoon (12 PM - 5 PM)**: My ICR stabilizes in the range of 1:9 to 1:10. \n",
    "5. **Evening (6 PM - 9 PM)**: My ICR remains relatively stable around 1:9.\n",
    "\n",
    "### Key Observations\n",
    "\n",
    "1. **Early Morning Insulin Resistance**: The low ICR values between 4 AM and 6 AM (1:4 to 1:6) likely reflect increased insulin resistance due to my 4 AM wake-up time and the dawn phenomenon. This coincides with my first basal dose.\n",
    "\n",
    "2. **Diurnal Pattern**: There's a clear pattern of lower insulin sensitivity in the early morning, which gradually improves throughout the day.\n",
    "\n",
    "3. **Afternoon Stability**: My ICR seems most stable in the afternoon hours, consistently around 1:9 to 1:10.\n",
    "\n",
    "4. **Data Reliability**: The ICR values for late evening and overnight hours should be interpreted cautiously due to less precise recording and fewer data points.\n",
    "\n",
    "5. **Basal Insulin Impact**: The timing of my basal doses (4 AM, and 4 PM at time of analysis) may influence the ICR patterns observed.\n",
    "\n",
    "### Implications for Insulin Dosing\n",
    "\n",
    "1. The 4 AM basal dose aligns well with the observed early morning insulin resistance, potentially helping to counter this effect.\n",
    "2. I could consider using a lower ICR (more insulin per gram of carbs) for early morning meals and gradually increase my ICR throughout the day.\n",
    "3. The stability of ICR in the afternoon and evening suggests that my newly implemented 4 AM, 12 PM and 8 PM basal doses are well-timed for my needs.\n",
    "\n",
    "### Considerations\n",
    "\n",
    "1. **Data Quality**: The extreme values in the very early morning hours (1 AM - 3 AM) are likely based on very few data points and may not be representative.\n",
    "\n",
    "2. **4 AM Wake-up and Basal Dose**: My 4 AM wake-up time and first basal dose significantly impact my early morning insulin needs.\n",
    "\n",
    "3. **Evening Data**: The less precise recording in the evening means I should be cautious about drawing firm conclusions from the late-night data.\n",
    "\n",
    "4. **Contextual Factors**: This analysis doesn't account for factors like exercise, stress, or meal composition, which could influence ICR.\n",
    "\n",
    "5. **Basal Insulin Regimen**: The transition from two daily 15-unit doses to three 12-unit doses may have impacted the ICR patterns, especially towards the end of the data range.\n",
    "\n",
    "### Next Steps\n",
    "\n",
    "1. Continue to monitor the effectiveness of the 4 AM basal dose in managing early morning insulin resistance. Consider adjusting the bolus insulin dose for any early morning carb intake if needed.\n",
    "2. Review my evening and night-time data recording practices to improve the accuracy of late-night entries.\n",
    "3. Analyze how the ICR patterns may have changed after switching to the three-dose basal regimen. Consider separating the data analysis for the two different basal regimens to see if there are significant differences.\n",
    "4. Create a more detailed dosing guide for myself, with different ICRs for different times of day, particularly focusing on the periods following each basal dose.\n",
    "5. Monitor glucose levels closely when implementing any changes based on this analysis, especially around basal dose times and the 4 AM wake-up time.\n",
    "6. Continue to gather data and periodically reassess this hourly ICR pattern, paying special attention to how the new basal regimen affects my insulin needs throughout the day.\n",
    "7. Discuss these findings with my healthcare provider, particularly regarding the effectiveness of the new basal regimen in managing glucose levels throughout the day.\n",
    "\n",
    "This updated hourly ICR analysis provides insights into how my insulin needs vary throughout the day, with special consideration given to my 4 AM wake-up time, the reliability of data at different times, and my specific basal insulin regimen. It confirms the need for different ICRs at different times while highlighting the potential impact of my basal insulin schedule on these patterns."
   ]
  },
  {
   "cell_type": "markdown",
   "id": "f0574c3b",
   "metadata": {},
   "source": [
    "## 4. Basal Insulin Assessment\n",
    "Given my fixed basal insulin regime (15 taken twice daily, at time of data collection), I'll evaluate how well this is maintaining my glucose levels, particularly overnight and between meals. This analysis can help me determine if my basal dosage and timing are optimal.\n",
    "\n",
    "### Overnight Glucose Trend Analysis"
   ]
  },
  {
   "cell_type": "code",
   "execution_count": 484,
   "id": "f09e73ec",
   "metadata": {},
   "outputs": [
    {
     "name": "stdout",
     "output_type": "stream",
     "text": [
      "hour\n",
      "0     7.348412\n",
      "1     7.915351\n",
      "2     8.182142\n",
      "3     8.111691\n",
      "4     7.283097\n",
      "5     6.650553\n",
      "22    6.293060\n",
      "23    6.667645\n",
      "Name: glucose, dtype: float64\n",
      "hour\n",
      "0    -0.055062\n",
      "1    -0.038994\n",
      "2    -0.004968\n",
      "3     0.040721\n",
      "4     0.075188\n",
      "5     0.028572\n",
      "22   -0.019576\n",
      "23   -0.049300\n",
      "Name: change, dtype: float64\n"
     ]
    }
   ],
   "source": [
    "overnight_data = df[(df['hour'] >= 22) | (df['hour'] < 6)]\n",
    "# Show average blood glucose overnight by hour\n",
    "overnight_avg = overnight_data.groupby('hour')['glucose'].mean()\n",
    "overnight_avg = pd.\n",
    "# Calculate the average hourly glucose change by hour\n",
    "overnight_hourly_change = overnight_data.groupby('hour')['change'].mean()\n",
    "print(overnight_avg)\n",
    "print(overnight_hourly_change)"
   ]
  },
  {
   "cell_type": "code",
   "execution_count": 497,
   "id": "a9fe8cb8",
   "metadata": {},
   "outputs": [],
   "source": [
    "# Combine overnight_avg and overnight_hourly_change into a DataFrame\n",
    "trend_df = pd.DataFrame({'glucose': overnight_avg, 'change': overnight_hourly_change})\n",
    "\n",
    "# Reset index to make 'hour' a column\n",
    "trend_df = trend_df.reset_index()\n",
    "\n",
    "# Create a custom hour order that represents the overnight period\n",
    "hour_order = [22, 23, 0, 1, 2, 3, 4, 5]\n",
    "trend_df['hour_order'] = trend_df['hour'].map(lambda x: hour_order.index(x))\n",
    "\n",
    "# Sort by this new order\n",
    "trend_df = trend_df.sort_values('hour_order')"
   ]
  },
  {
   "cell_type": "code",
   "execution_count": 502,
   "id": "d44b49b9",
   "metadata": {},
   "outputs": [
    {
     "data": {
      "text/html": [
       "<div>\n",
       "<style scoped>\n",
       "    .dataframe tbody tr th:only-of-type {\n",
       "        vertical-align: middle;\n",
       "    }\n",
       "\n",
       "    .dataframe tbody tr th {\n",
       "        vertical-align: top;\n",
       "    }\n",
       "\n",
       "    .dataframe thead th {\n",
       "        text-align: right;\n",
       "    }\n",
       "</style>\n",
       "<table border=\"1\" class=\"dataframe\">\n",
       "  <thead>\n",
       "    <tr style=\"text-align: right;\">\n",
       "      <th></th>\n",
       "      <th>hour</th>\n",
       "      <th>glucose</th>\n",
       "      <th>change</th>\n",
       "      <th>hour_order</th>\n",
       "    </tr>\n",
       "  </thead>\n",
       "  <tbody>\n",
       "    <tr>\n",
       "      <th>6</th>\n",
       "      <td>22</td>\n",
       "      <td>6.293060</td>\n",
       "      <td>-0.019576</td>\n",
       "      <td>0</td>\n",
       "    </tr>\n",
       "    <tr>\n",
       "      <th>7</th>\n",
       "      <td>23</td>\n",
       "      <td>6.667645</td>\n",
       "      <td>-0.049300</td>\n",
       "      <td>1</td>\n",
       "    </tr>\n",
       "    <tr>\n",
       "      <th>0</th>\n",
       "      <td>0</td>\n",
       "      <td>7.348412</td>\n",
       "      <td>-0.055062</td>\n",
       "      <td>2</td>\n",
       "    </tr>\n",
       "    <tr>\n",
       "      <th>1</th>\n",
       "      <td>1</td>\n",
       "      <td>7.915351</td>\n",
       "      <td>-0.038994</td>\n",
       "      <td>3</td>\n",
       "    </tr>\n",
       "    <tr>\n",
       "      <th>2</th>\n",
       "      <td>2</td>\n",
       "      <td>8.182142</td>\n",
       "      <td>-0.004968</td>\n",
       "      <td>4</td>\n",
       "    </tr>\n",
       "    <tr>\n",
       "      <th>3</th>\n",
       "      <td>3</td>\n",
       "      <td>8.111691</td>\n",
       "      <td>0.040721</td>\n",
       "      <td>5</td>\n",
       "    </tr>\n",
       "    <tr>\n",
       "      <th>4</th>\n",
       "      <td>4</td>\n",
       "      <td>7.283097</td>\n",
       "      <td>0.075188</td>\n",
       "      <td>6</td>\n",
       "    </tr>\n",
       "    <tr>\n",
       "      <th>5</th>\n",
       "      <td>5</td>\n",
       "      <td>6.650553</td>\n",
       "      <td>0.028572</td>\n",
       "      <td>7</td>\n",
       "    </tr>\n",
       "  </tbody>\n",
       "</table>\n",
       "</div>"
      ],
      "text/plain": [
       "   hour   glucose    change  hour_order\n",
       "6    22  6.293060 -0.019576           0\n",
       "7    23  6.667645 -0.049300           1\n",
       "0     0  7.348412 -0.055062           2\n",
       "1     1  7.915351 -0.038994           3\n",
       "2     2  8.182142 -0.004968           4\n",
       "3     3  8.111691  0.040721           5\n",
       "4     4  7.283097  0.075188           6\n",
       "5     5  6.650553  0.028572           7"
      ]
     },
     "execution_count": 502,
     "metadata": {},
     "output_type": "execute_result"
    }
   ],
   "source": [
    "trend_df"
   ]
  },
  {
   "cell_type": "code",
   "execution_count": 504,
   "id": "09922990",
   "metadata": {},
   "outputs": [
    {
     "data": {
      "image/png": "[encoded data removed]",
      "text/plain": [
       "<Figure size 864x432 with 2 Axes>"
      ]
     },
     "metadata": {
      "needs_background": "light"
     },
     "output_type": "display_data"
    }
   ],
   "source": [
    "fig, ax1 = plt.subplots(figsize=(12, 6))\n",
    "\n",
    "# Plot average glucose\n",
    "sns.lineplot(x='hour_order', y='glucose', data=trend_df, ax=ax1, color='blue', marker='o')\n",
    "ax1.set_xlabel('Time')\n",
    "ax1.set_ylabel('Average Glucose (mmol/L)', color='blue')\n",
    "ax1.tick_params(axis='y', labelcolor='blue')\n",
    "\n",
    "# Create a twin Axes for hourly change\n",
    "ax2 = ax1.twinx()\n",
    "\n",
    "# Plot hourly change\n",
    "sns.lineplot(x='hour_order', y='change', data=trend_df, ax=ax2, color='red', marker='s')\n",
    "ax2.set_ylabel('Average Hourly Change (mmol/L)', color='red')\n",
    "ax2.tick_params(axis='y', labelcolor='red')\n",
    "\n",
    "# Add a horizontal line at y=0 for the change axis\n",
    "ax2.axhline(y=0, color='gray', linestyle='--', linewidth=0.8)\n",
    "\n",
    "# Set title\n",
    "plt.title('Overnight Glucose Levels and Hourly Changes')\n",
    "\n",
    "# Set custom x-ticks and labels\n",
    "ax1.set_xticks(range(len(hour_order)))\n",
    "ax1.set_xticklabels([f\"{h:02d}:00\" for h in hour_order])\n",
    "\n",
    "# Add legend\n",
    "lines1, labels1 = ax1.get_legend_handles_labels()\n",
    "lines2, labels2 = ax2.get_legend_handles_labels()\n",
    "ax1.legend(lines1 + lines2, ['Glucose', 'Change'], loc='upper left')\n",
    "\n",
    "# Adjust layout and display\n",
    "plt.tight_layout()\n",
    "plt.show()"
   ]
  },
  {
   "cell_type": "markdown",
   "id": "04e0e9ad",
   "metadata": {},
   "source": [
    "## Overnight glucose Trend Assessment\n",
    "\n",
    "### My Key Observations\n",
    "\n",
    "- Overall Trend: My glucose levels tend to rise from 10 PM to 2 AM, then start to decline from 3 AM onwards.\n",
    "Peak Glucose: My highest average glucose level occurs at 2 AM (8.18 mmol/L).\n",
    "- Lowest Glucose: My lowest average glucose level is at 10 PM (6.29 mmol/L).\n",
    "- Dawn Phenomenon: I notice an increase in my glucose levels between 3 AM and 5 AM, which could be attributed to the dawn phenomenon.\n",
    "\n",
    "### Basal Insulin Effect:\n",
    "\n",
    "From 10 PM to 2 AM, my glucose levels are rising despite a slight negative change per hour, suggesting my basal insulin might not be fully covering my needs during this period.\n",
    "From 2 AM to 5 AM, my rate of change becomes positive, indicating a stronger dawn phenomenon effect or potentially waning basal insulin coverage.\n",
    "\n",
    "\n",
    "**Target Range**: Assuming my target range is 3.9-10 mmol/L, my overnight glucose levels remain within range, which is positive.\n",
    "\n",
    "**Implications for My Basal Insulin Management**\n",
    "\n",
    "**Evening Basal Dose**: The rise in my glucose levels from 10 PM to 2 AM suggests that my evening basal dose (8 PM) might not be providing full coverage through the night.\n",
    "\n",
    "**Early Morning Dose**: My 4 AM basal dose appears well-timed to address the dawn phenomenon, as I see my glucose levels starting to decrease after this point.\n",
    "\n",
    "**Dosage Distribution**: My current distribution of basal doses (12 units at 4 AM, 12 PM, and 8 PM) might benefit from some adjustment to provide better overnight coverage.\n",
    "\n",
    "**My Action Plan**\n",
    "\n",
    "- Basal Adjustment: I'll consider discussing with my healthcare provider about slightly increasing my evening (8 PM) basal dose or redistributing my doses to provide more insulin action during the midnight to 3 AM period.\n",
    "- Timing of Evening Dose: I'll explore if taking my evening dose slightly later (e.g., 9 PM instead of 8 PM) might help extend its coverage further into the night.\n",
    "- Continuous Monitoring: I'll keep tracking these overnight trends, especially as I make any adjustments to my basal regimen.\n",
    "- Pre-Bed Routine: I'll consider checking my blood glucose before bed. If it's on the lower end, I might try a small protein-rich snack to help prevent the rise seen in the early part of the night.\n",
    "- Early Morning Dose: My 4 AM dose seems well-placed. I'll continue to monitor its effectiveness in managing my dawn phenomenon.\n",
    "- Further Analysis: I think it might be beneficial to analyze how these patterns differ on nights following days with different activity levels or dietary patterns.\n",
    "\n",
    "*This analysis gives me good insights, but I know that individual factors can significantly impact my insulin needs and responses.*"
   ]
  },
  {
   "cell_type": "markdown",
   "id": "4cee2d4a",
   "metadata": {},
   "source": [
    "## 5. Time of Day Analysis\n",
    "Here, I'll examine how my glucose levels change throughout the day. I'll identify any problematic time periods and assess for the presence of dawn phenomenon. This information can guide adjustments to my insulin regime based on the time of day.\n"
   ]
  },
  {
   "cell_type": "code",
   "execution_count": null,
   "id": "36e95b78",
   "metadata": {},
   "outputs": [],
   "source": []
  },
  {
   "cell_type": "markdown",
   "id": "5916b2d0",
   "metadata": {},
   "source": [
    "## 6. Meal Impact Analysis\n",
    "In this section, I'll analyze how different meals affect my glucose levels. By categorizing my meals based on their carbohydrate content, I can identify which types of meals are best managed by my current insulin regime and where improvements might be needed.\n"
   ]
  },
  {
   "cell_type": "code",
   "execution_count": null,
   "id": "f152d109",
   "metadata": {},
   "outputs": [],
   "source": []
  },
  {
   "cell_type": "markdown",
   "id": "05c103fa",
   "metadata": {},
   "source": [
    "## 7. Pattern Recognition\n",
    "This section will focus on identifying any recurring patterns in my glucose data. I'll look for daily, weekly, or monthly trends that might not be immediately obvious but could inform my diabetes management strategy.\n"
   ]
  },
  {
   "cell_type": "code",
   "execution_count": null,
   "id": "c7ef3b64",
   "metadata": {},
   "outputs": [],
   "source": []
  },
  {
   "cell_type": "markdown",
   "id": "b3777d32",
   "metadata": {},
   "source": [
    "## 8. Comparative Analysis\n",
    "Here, I'll compare different periods, such as weekdays versus weekends, or periods of particularly good or poor control. This can help me identify what works well and what doesn't in my current regime.\n"
   ]
  },
  {
   "cell_type": "code",
   "execution_count": null,
   "id": "5aea55e5",
   "metadata": {},
   "outputs": [],
   "source": []
  },
  {
   "cell_type": "markdown",
   "id": "7e83f2a6",
   "metadata": {},
   "source": [
    "## 9. Visualization and Reporting\n",
    "In this crucial section, I'll create clear, informative visualizations of my findings. I'll summarize the key insights from my analysis and develop actionable ideas for optimizing my glucose management regime.\n"
   ]
  },
  {
   "cell_type": "code",
   "execution_count": null,
   "id": "b690e163",
   "metadata": {},
   "outputs": [],
   "source": []
  },
  {
   "cell_type": "markdown",
   "id": "8d79dbd4",
   "metadata": {},
   "source": [
    "## 10. Future Monitoring Suggestions\n",
    "Finally, I'll reflect on my analysis process and suggest areas where additional data collection could provide even more insights. I'll also consider any adjustments to my monitoring practices that could enhance future analyses.\n"
   ]
  },
  {
   "cell_type": "code",
   "execution_count": null,
   "id": "3c474039",
   "metadata": {},
   "outputs": [],
   "source": []
  },
  {
   "cell_type": "markdown",
   "id": "9bddc530",
   "metadata": {},
   "source": []
  },
  {
   "cell_type": "code",
   "execution_count": null,
   "id": "9951bce8",
   "metadata": {},
   "outputs": [],
   "source": []
  },
  {
   "cell_type": "markdown",
   "id": "8f31d4c2",
   "metadata": {},
   "source": [
    "# Personal Glucose Control Analysis Summary\n",
    "\n",
    "## Overview\n",
    "This report summarizes my comprehensive analysis of my glucose control over a period of 3 months. I've utilized my continuous glucose monitoring (CGM) data, insulin dosing records, and carbohydrate intake information. The goal of this analysis was to gain insights into the effectiveness of my current diabetes management regime and identify areas where I can potentially optimize my approach.\n",
    "\n",
    "## Key Metrics\n",
    "- My Average Glucose: [X.X mmol/L]\n",
    "- My Time in Range (3.9-10.0 mmol/L): [XX%]\n",
    "- My Glucose Variability (CV): [XX%]\n",
    "- My Hypoglycemia Frequency: [X episodes per week]\n",
    "- My Hyperglycemia Frequency: [X episodes per week]\n",
    "\n",
    "## Insulin Effectiveness\n",
    "- My Insulin Sensitivity Factor (ISF): [X.X mmol/L per unit]\n",
    "- My Insulin-to-Carb Ratio (ICR): [1 unit per X grams of carbs]\n",
    "- Key Observation: [e.g., I've noticed my ISF varies significantly throughout the day, being most effective in the morning]\n",
    "\n",
    "## Basal Insulin Assessment\n",
    "- My Overnight Stability: [e.g., My glucose levels remain stable between 12 AM and 6 AM]\n",
    "- My Inter-meal Stability: [e.g., I've observed my glucose levels show a consistent rise 3 hours after basal dose]\n",
    "- Key Observation: [e.g., I may need to adjust my current basal dosing in the afternoon]\n",
    "\n",
    "## Time of Day Patterns\n",
    "- Dawn Phenomenon: [Whether I've observed it, magnitude if present]\n",
    "- My Most Challenging Time Period: [e.g., I struggle most with glucose control between 2 PM - 4 PM]\n",
    "- Key Observation: [e.g., I've noticed late afternoon highs, suggesting I might need a basal rate adjustment]\n",
    "\n",
    "## Meal Impact\n",
    "- My Optimal Meal Size: [X-Y grams of carbohydrates]\n",
    "- My Most Challenging Meal: [e.g., I have the highest post-meal glucose excursions after breakfast]\n",
    "- Key Observation: [e.g., I've noticed that high-fat dinners lead to delayed hyperglycemia for me]\n",
    "\n",
    "## Weekday vs. Weekend Patterns\n",
    "- Key Difference: [e.g., My weekends show a 15% lower Time in Range compared to weekdays]\n",
    "- Contributing Factors: [e.g., I tend to have later and larger meals on weekends]\n",
    "\n",
    "## Major Insights\n",
    "1. [e.g., My current basal insulin regime may not adequately cover my afternoon insulin needs]\n",
    "2. [e.g., I might need a more aggressive breakfast insulin-to-carb ratio]\n",
    "3. [e.g., I've observed that exercise on weekday evenings significantly improves my overnight glucose control]\n",
    "\n",
    "## Potential Adjustments to Consider\n",
    "1. [e.g., I might try adjusting my afternoon basal insulin dose from 8 units to 9 units]\n",
    "2. [e.g., I could experiment with a more aggressive breakfast insulin-to-carb ratio, starting with 1:8 instead of 1:10]\n",
    "3. [e.g., I'll try pre-bolusing 15-20 minutes before meals to reduce post-meal glucose spikes]\n",
    "4. [e.g., I plan to incorporate short walks after dinner to improve my evening glucose control]\n",
    "\n",
    "## Areas for Further Investigation\n",
    "1. [e.g., I should collect more detailed exercise data to better understand its impact on my glucose levels]\n",
    "2. [e.g., I want to explore the effect of protein intake on my delayed glucose rises]\n",
    "3. [e.g., It might be useful to monitor my stress levels to assess their impact on my glucose variability]\n",
    "\n",
    "This analysis has given me a comprehensive view of my glucose control patterns and offered insights for optimizing my diabetes management. I plan to implement any adjustments gradually and under the supervision of my healthcare provider.\n",
    "\n",
    "[Date of Analysis and Planned Next Review Date]"
   ]
  },
  {
   "cell_type": "markdown",
   "id": "da4edd70",
   "metadata": {},
   "source": [
    "## End of Notebook\n",
    "\n",
    "Copyright (c) 2024 Warren Bebbington"
   ]
  },
  {
   "cell_type": "code",
   "execution_count": null,
   "id": "3ff8cf83",
   "metadata": {},
   "outputs": [],
   "source": []
  }
 ],
 "metadata": {
  "kernelspec": {
   "display_name": "Python 3 (ipykernel)",
   "language": "python",
   "name": "python3"
  },
  "language_info": {
   "codemirror_mode": {
    "name": "ipython",
    "version": 3
   },
   "file_extension": ".py",
   "mimetype": "text/x-python",
   "name": "python",
   "nbconvert_exporter": "python",
   "pygments_lexer": "ipython3",
   "version": "3.10.12"
  }
 },
 "nbformat": 4,
 "nbformat_minor": 5
}
