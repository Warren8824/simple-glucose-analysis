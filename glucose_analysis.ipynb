{
 "cells": [
  {
   "cell_type": "markdown",
   "id": "24e63c49",
   "metadata": {},
   "source": [
    "# License Notice\n",
    "\n",
    "Copyright (c) 2024 Warren Bebbington\n",
    "\n",
    "This notebook is part of the simple-glucose-analysis project and is licensed under the MIT License. For the full license text, please see the LICENSE file in the project's root directory."
   ]
  },
  {
   "cell_type": "markdown",
   "id": "3adedfcb",
   "metadata": {},
   "source": [
    "# My Authentic Personal Glucose Control Analysis Project\n",
    "\n",
    "## Introduction\n",
    "\n",
    "This project presents an analysis of my actual continuous glucose monitoring (CGM) data as a person living with Type 1 Diabetes. The dataset spans a 3-month period and includes my genuine glucose readings, insulin doses, and carbohydrate intake information.\n",
    "\n",
    "**Important Note:** While this is my real, unmodified data, I've taken steps to protect my privacy:\n",
    "1. The specific date range of the data collection has been anonymized.\n",
    "2. This dataset is not from the current time period, which adds a layer of privacy protection.\n",
    "\n",
    "## Project Objectives\n",
    "\n",
    "1. Showcase my data analysis skills using Python, particularly with time-series health data.\n",
    "2. Demonstrate my proficiency in data cleaning, preprocessing, and visualization techniques.\n",
    "3. Apply statistical analysis methods to derive insights from my glucose monitoring data.\n",
    "4. Explore authentic patterns and relationships in my diabetes management data.\n",
    "5. Present my findings in a clear, visually appealing manner.\n",
    "\n",
    "## Data Description\n",
    "\n",
    "My dataset includes:\n",
    "- Actual glucose readings (mmol/L) at 5-minute intervals\n",
    "- Real insulin doses (units)\n",
    "- Relativley accurate carbohydrate intake (grams)\n",
    "\n",
    "## Ethical Considerations and Data Usage\n",
    "\n",
    "As a person with Type 1 Diabetes, I understand the significance of this data. I want to emphasize a few key points:\n",
    "\n",
    "1. Privacy: While the data is genuine, the anonymized date range protects my privacy.\n",
    "2. Not Current Data: This dataset is from a past period, not representing my current diabetes management.\n",
    "3. Educational Purpose: This project is intended to demonstrate data analysis skills and general diabetes management insights.\n",
    "4. Medical Disclaimer: Despite being real data, the insights generated here should not be considered medical advice. As always, I will only consider changes to my diabetes management in consultation with healthcare professionals.\n",
    "\n",
    "## Intended Use of Insights\n",
    "\n",
    "The insights derived from this analysis are primarily for:\n",
    "1. Demonstrating my data analysis capabilities.\n",
    "2. Showcasing the potential of data analysis in diabetes management.\n",
    "3. Personal reflection on past diabetes management strategies.\n",
    "\n",
    "Any application of these insights to actual diabetes management would only be done under the guidance of medical professionals.\n",
    "\n",
    "## Tools and Libraries Used\n",
    "\n",
    "- Python 3.x\n",
    "- Pandas for data manipulation\n",
    "- Matplotlib and Seaborn for data visualization\n",
    "- Scipy for statistical analysis\n",
    "- Statsmodels for time series analysis\n",
    "- XDrip+(Android) for recieving and storing of CGM data, insulin doses and carbohydrate intake\n",
    "- Libre 2 Glucose Sensor and LibreLink(Android) app to initialise sensors\n",
    "\n",
    "Through this project, I aim to demonstrate not only my technical skills in data analysis but also provide authentic insights into the complexities of diabetes management. Let's explore my real-world glucose monitoring data and uncover valuable patterns and trends!"
   ]
  },
  {
   "cell_type": "markdown",
   "id": "9a5fe641",
   "metadata": {},
   "source": [
    "## 1. Data Overview and Preprocessing\n",
    "\n",
    "In this initial stage, I'll prepare my data for analysis. The datasets used were obtained by completing a backup from Xdrip+ on an android device, connected to Libre 2 sensors for 14 days at a time(Hamburger icon in XDrip+ -> Import/Export Features -> Export Database). Each new Libre 2 was initiated 1 hour prior to the previous expiring, which should negate warm-up gaps in the data. This datasets include CGM readings, insulin doses, and carbohydrate intake data. We will start by cleaning the data to remove any errors or inconsistencies, and creating useful time-based features to aid my analysis.\n",
    "\n",
    "### Import Libraries and Load Data"
   ]
  },
  {
   "cell_type": "code",
   "execution_count": 4,
   "id": "ec1248c8",
   "metadata": {},
   "outputs": [],
   "source": [
    "import pandas as pd\n",
    "import numpy as np\n",
    "import matplotlib.pyplot as plt\n",
    "import seaborn as sns\n",
    "from scipy import stats"
   ]
  },
  {
   "cell_type": "code",
   "execution_count": null,
   "id": "bc7cd24c",
   "metadata": {},
   "outputs": [],
   "source": [
    "# Load my data\n",
    "cgm_data = pd.read_csv('data/my_cgm_data.csv')\n",
    "insulin_data = pd.read_csv('data/my_insulin_data.csv')\n",
    "carb_data = pd.read_csv('data/my_carb_data.csv')"
   ]
  },
  {
   "cell_type": "code",
   "execution_count": null,
   "id": "bf63a0de",
   "metadata": {},
   "outputs": [],
   "source": []
  },
  {
   "cell_type": "markdown",
   "id": "526dc7f6",
   "metadata": {},
   "source": [
    "## 2. Overall Glucose Control Metrics\n",
    "Here, I'll calculate key metrics that give me a broad view of my glucose control. This includes analyzing my Time in Range (TIR), average glucose levels, and the frequency of high and low glucose events. These metrics will provide me with a baseline understanding of my overall glucose management.\n"
   ]
  },
  {
   "cell_type": "code",
   "execution_count": null,
   "id": "2eb0a2ea",
   "metadata": {},
   "outputs": [],
   "source": []
  },
  {
   "cell_type": "markdown",
   "id": "78c22394",
   "metadata": {},
   "source": [
    "## 3. Insulin Effectiveness Analysis\n",
    "This section focuses on how well my insulin is working. I'll calculate my Insulin Sensitivity Factor (ISF) and Insulin-to-Carb Ratio (ICR), and examine how these might vary throughout the day. This information is crucial for optimizing my insulin dosing strategy.\n"
   ]
  },
  {
   "cell_type": "code",
   "execution_count": null,
   "id": "b6890c8a",
   "metadata": {},
   "outputs": [],
   "source": []
  },
  {
   "cell_type": "markdown",
   "id": "f0574c3b",
   "metadata": {},
   "source": [
    "## 4. Basal Insulin Assessment\n",
    "Given my fixed basal insulin regime (8u taken 3 times daily), I'll evaluate how well this is maintaining my glucose levels, particularly overnight and between meals. This analysis can help me determine if my basal dosage and timing are optimal.\n"
   ]
  },
  {
   "cell_type": "code",
   "execution_count": null,
   "id": "f09e73ec",
   "metadata": {},
   "outputs": [],
   "source": []
  },
  {
   "cell_type": "markdown",
   "id": "4cee2d4a",
   "metadata": {},
   "source": [
    "## 5. Time of Day Analysis\n",
    "Here, I'll examine how my glucose levels change throughout the day. I'll identify any problematic time periods and assess for the presence of dawn phenomenon. This information can guide adjustments to my insulin regime based on the time of day.\n"
   ]
  },
  {
   "cell_type": "code",
   "execution_count": null,
   "id": "36e95b78",
   "metadata": {},
   "outputs": [],
   "source": []
  },
  {
   "cell_type": "markdown",
   "id": "5916b2d0",
   "metadata": {},
   "source": [
    "## 6. Meal Impact Analysis\n",
    "In this section, I'll analyze how different meals affect my glucose levels. By categorizing my meals based on their carbohydrate content, I can identify which types of meals are best managed by my current insulin regime and where improvements might be needed.\n"
   ]
  },
  {
   "cell_type": "code",
   "execution_count": null,
   "id": "f152d109",
   "metadata": {},
   "outputs": [],
   "source": []
  },
  {
   "cell_type": "markdown",
   "id": "05c103fa",
   "metadata": {},
   "source": [
    "## 7. Pattern Recognition\n",
    "This section will focus on identifying any recurring patterns in my glucose data. I'll look for daily, weekly, or monthly trends that might not be immediately obvious but could inform my diabetes management strategy.\n"
   ]
  },
  {
   "cell_type": "code",
   "execution_count": null,
   "id": "c7ef3b64",
   "metadata": {},
   "outputs": [],
   "source": []
  },
  {
   "cell_type": "markdown",
   "id": "b3777d32",
   "metadata": {},
   "source": [
    "## 8. Comparative Analysis\n",
    "Here, I'll compare different periods, such as weekdays versus weekends, or periods of particularly good or poor control. This can help me identify what works well and what doesn't in my current regime.\n"
   ]
  },
  {
   "cell_type": "code",
   "execution_count": null,
   "id": "5aea55e5",
   "metadata": {},
   "outputs": [],
   "source": []
  },
  {
   "cell_type": "markdown",
   "id": "7e83f2a6",
   "metadata": {},
   "source": [
    "## 9. Visualization and Reporting\n",
    "In this crucial section, I'll create clear, informative visualizations of my findings. I'll summarize the key insights from my analysis and develop actionable ideas for optimizing my glucose management regime.\n"
   ]
  },
  {
   "cell_type": "code",
   "execution_count": null,
   "id": "b690e163",
   "metadata": {},
   "outputs": [],
   "source": []
  },
  {
   "cell_type": "markdown",
   "id": "8d79dbd4",
   "metadata": {},
   "source": [
    "## 10. Future Monitoring Suggestions\n",
    "Finally, I'll reflect on my analysis process and suggest areas where additional data collection could provide even more insights. I'll also consider any adjustments to my monitoring practices that could enhance future analyses.\n"
   ]
  },
  {
   "cell_type": "code",
   "execution_count": null,
   "id": "3c474039",
   "metadata": {},
   "outputs": [],
   "source": []
  },
  {
   "cell_type": "markdown",
   "id": "9bddc530",
   "metadata": {},
   "source": []
  },
  {
   "cell_type": "code",
   "execution_count": null,
   "id": "9951bce8",
   "metadata": {},
   "outputs": [],
   "source": []
  },
  {
   "cell_type": "markdown",
   "id": "8f31d4c2",
   "metadata": {},
   "source": [
    "# Personal Glucose Control Analysis Summary\n",
    "\n",
    "## Overview\n",
    "This report summarizes my comprehensive analysis of my glucose control over a period of 3 months. I've utilized my continuous glucose monitoring (CGM) data, insulin dosing records, and carbohydrate intake information. The goal of this analysis was to gain insights into the effectiveness of my current diabetes management regime and identify areas where I can potentially optimize my approach.\n",
    "\n",
    "## Key Metrics\n",
    "- My Average Glucose: [X.X mmol/L]\n",
    "- My Time in Range (3.9-10.0 mmol/L): [XX%]\n",
    "- My Glucose Variability (CV): [XX%]\n",
    "- My Hypoglycemia Frequency: [X episodes per week]\n",
    "- My Hyperglycemia Frequency: [X episodes per week]\n",
    "\n",
    "## Insulin Effectiveness\n",
    "- My Insulin Sensitivity Factor (ISF): [X.X mmol/L per unit]\n",
    "- My Insulin-to-Carb Ratio (ICR): [1 unit per X grams of carbs]\n",
    "- Key Observation: [e.g., I've noticed my ISF varies significantly throughout the day, being most effective in the morning]\n",
    "\n",
    "## Basal Insulin Assessment\n",
    "- My Overnight Stability: [e.g., My glucose levels remain stable between 12 AM and 6 AM]\n",
    "- My Inter-meal Stability: [e.g., I've observed my glucose levels show a consistent rise 3 hours after basal dose]\n",
    "- Key Observation: [e.g., I may need to adjust my current basal dosing in the afternoon]\n",
    "\n",
    "## Time of Day Patterns\n",
    "- Dawn Phenomenon: [Whether I've observed it, magnitude if present]\n",
    "- My Most Challenging Time Period: [e.g., I struggle most with glucose control between 2 PM - 4 PM]\n",
    "- Key Observation: [e.g., I've noticed late afternoon highs, suggesting I might need a basal rate adjustment]\n",
    "\n",
    "## Meal Impact\n",
    "- My Optimal Meal Size: [X-Y grams of carbohydrates]\n",
    "- My Most Challenging Meal: [e.g., I have the highest post-meal glucose excursions after breakfast]\n",
    "- Key Observation: [e.g., I've noticed that high-fat dinners lead to delayed hyperglycemia for me]\n",
    "\n",
    "## Weekday vs. Weekend Patterns\n",
    "- Key Difference: [e.g., My weekends show a 15% lower Time in Range compared to weekdays]\n",
    "- Contributing Factors: [e.g., I tend to have later and larger meals on weekends]\n",
    "\n",
    "## Major Insights\n",
    "1. [e.g., My current basal insulin regime may not adequately cover my afternoon insulin needs]\n",
    "2. [e.g., I might need a more aggressive breakfast insulin-to-carb ratio]\n",
    "3. [e.g., I've observed that exercise on weekday evenings significantly improves my overnight glucose control]\n",
    "\n",
    "## Potential Adjustments to Consider\n",
    "1. [e.g., I might try adjusting my afternoon basal insulin dose from 8 units to 9 units]\n",
    "2. [e.g., I could experiment with a more aggressive breakfast insulin-to-carb ratio, starting with 1:8 instead of 1:10]\n",
    "3. [e.g., I'll try pre-bolusing 15-20 minutes before meals to reduce post-meal glucose spikes]\n",
    "4. [e.g., I plan to incorporate short walks after dinner to improve my evening glucose control]\n",
    "\n",
    "## Areas for Further Investigation\n",
    "1. [e.g., I should collect more detailed exercise data to better understand its impact on my glucose levels]\n",
    "2. [e.g., I want to explore the effect of protein intake on my delayed glucose rises]\n",
    "3. [e.g., It might be useful to monitor my stress levels to assess their impact on my glucose variability]\n",
    "\n",
    "This analysis has given me a comprehensive view of my glucose control patterns and offered insights for optimizing my diabetes management. I plan to implement any adjustments gradually and under the supervision of my healthcare provider.\n",
    "\n",
    "[Date of Analysis and Planned Next Review Date]"
   ]
  },
  {
   "cell_type": "code",
   "execution_count": null,
   "id": "9df3bf0e",
   "metadata": {},
   "outputs": [],
   "source": []
  }
 ],
 "metadata": {
  "kernelspec": {
   "display_name": "Python 3 (ipykernel)",
   "language": "python",
   "name": "python3"
  },
  "language_info": {
   "codemirror_mode": {
    "name": "ipython",
    "version": 3
   },
   "file_extension": ".py",
   "mimetype": "text/x-python",
   "name": "python",
   "nbconvert_exporter": "python",
   "pygments_lexer": "ipython3",
   "version": "3.10.12"
  }
 },
 "nbformat": 4,
 "nbformat_minor": 5
}
